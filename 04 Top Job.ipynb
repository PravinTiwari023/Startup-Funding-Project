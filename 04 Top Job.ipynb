{
 "cells": [
  {
   "cell_type": "code",
   "execution_count": 6,
   "metadata": {},
   "outputs": [],
   "source": [
    "import pandas as pd\n",
    "import numpy as np"
   ]
  },
  {
   "cell_type": "code",
   "execution_count": 13,
   "metadata": {},
   "outputs": [],
   "source": [
    "data = pd.read_csv('startup_funding.csv')\n",
    "data['AmountInUSD'].fillna(0,inplace=True)\n",
    "\n",
    "\n",
    "data['AmountInUSD'] = data['AmountInUSD'].apply(lambda x: float(str(x).replace(\",\",\"\")))"
   ]
  },
  {
   "cell_type": "code",
   "execution_count": null,
   "metadata": {},
   "outputs": [],
   "source": []
  },
  {
   "cell_type": "code",
   "execution_count": 15,
   "metadata": {},
   "outputs": [
    {
     "name": "stdout",
     "output_type": "stream",
     "text": [
      "Paytm\n",
      "Flipkart\n",
      "Ola\n",
      "Snapdeal\n",
      "Oyo\n"
     ]
    }
   ],
   "source": [
    "# Open and read data file as specified in the question\n",
    "# Print the required output in given format\n",
    "import numpy as np\n",
    "import pandas as pd\n",
    "import csv\n",
    "\n",
    "data=pd.read_csv('startup_funding.csv')\n",
    "df=data.copy()\n",
    "df.AmountInUSD.fillna('0',inplace=True)\n",
    "\n",
    "np_amount=np.array(df.AmountInUSD)\n",
    "np_startup=np.array(df.StartupName)\n",
    "\n",
    "for i in range(len(np_amount)):\n",
    "    np_amount[i]=''.join(np_amount[i].split(','))\n",
    "np_amount=np.array(np_amount, dtype='int64')\n",
    "for i in range(len(np_startup)):\n",
    "    if 'Ola' in np_startup[i]:\n",
    "        np_startup[i]='Ola'\n",
    "    if 'Flipkart' in np_startup[i]:\n",
    "        np_startup[i]='Flipkart'\n",
    "    if 'Oyo' in np_startup[i]:\n",
    "        np_startup[i]='Oyo'\n",
    "    if 'Paytm' in np_startup[i]:\n",
    "        np_startup[i]='Paytm'\n",
    "dic=dict()\n",
    "for i in range(len(np_amount)):\n",
    "    if np_startup[i] in dic.keys():\n",
    "        dic[np_startup[i]]+=np_amount[i]\n",
    "    else:\n",
    "        dic[np_startup[i]]=np_amount[i]\n",
    "        \n",
    "xaxis=[]\n",
    "yaxis=[]\n",
    "for i in dic.keys():\n",
    "    xaxis.append(i)\n",
    "    yaxis.append(dic[i])\n",
    "np_xaxis=np.array(xaxis)\n",
    "np_yaxis=np.array(yaxis)\n",
    "\n",
    "np_xaxis=np_xaxis[np.argsort(np_yaxis)]\n",
    "np_yaxis=np.sort(np_yaxis)\n",
    "\n",
    "np_xaxis=np_xaxis[len(np_xaxis)-1:len(np_xaxis)-1-5:-1]\n",
    "np_yaxis=np_yaxis[len(np_yaxis)-1:len(np_yaxis)-1-5:-1]\n",
    "for i in np_xaxis:\n",
    "    print(i)"
   ]
  },
  {
   "cell_type": "code",
   "execution_count": null,
   "metadata": {},
   "outputs": [],
   "source": []
  }
 ],
 "metadata": {
  "kernelspec": {
   "display_name": "Python 3",
   "language": "python",
   "name": "python3"
  },
  "language_info": {
   "codemirror_mode": {
    "name": "ipython",
    "version": 3
   },
   "file_extension": ".py",
   "mimetype": "text/x-python",
   "name": "python",
   "nbconvert_exporter": "python",
   "pygments_lexer": "ipython3",
   "version": "3.8.8"
  }
 },
 "nbformat": 4,
 "nbformat_minor": 4
}
