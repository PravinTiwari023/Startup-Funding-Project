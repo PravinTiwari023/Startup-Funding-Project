{
 "cells": [
  {
   "cell_type": "code",
   "execution_count": 1,
   "metadata": {},
   "outputs": [],
   "source": [
    "import pandas as pd\n",
    "import numpy as np\n",
    "import matplotlib.pyplot as plt"
   ]
  },
  {
   "cell_type": "code",
   "execution_count": 70,
   "metadata": {},
   "outputs": [
    {
     "name": "stdout",
     "output_type": "stream",
     "text": [
      "[5.48713623e+01 4.50021088e+01 8.43525938e-02 4.21762969e-02] .2f\n"
     ]
    }
   ],
   "source": [
    "data = pd.read_csv('startup_funding.csv')\n",
    "\n",
    "data['InvestmentType'].replace('SeedFunding','Seed Funding',inplace=True)\n",
    "data['InvestmentType'].replace('PrivateEquity','Private Equity',inplace=True)\n",
    "data['InvestmentType'].replace('Crowd funding','Crowd Funding',inplace=True)\n",
    "\n",
    "row_data=data['InvestmentType']\n",
    "a = row_data.value_counts()\n",
    "explode = [0 , 0 , 1 , 0]\n",
    "b = a.values.sum()\n",
    "a = np.array(a)\n",
    "ans = (a*100/b)\n",
    "print(ans)"
   ]
  },
  {
   "cell_type": "code",
   "execution_count": 55,
   "metadata": {},
   "outputs": [
    {
     "data": {
      "image/png": "[encoded data removed]",
      "text/plain": [
       "<Figure size 432x288 with 1 Axes>"
      ]
     },
     "metadata": {},
     "output_type": "display_data"
    },
    {
     "data": {
      "text/plain": [
       "{'Private Equity': 1067,\n",
       " 'Seed Funding': 1301,\n",
       " 'Debt Funding': 1,\n",
       " nan: 1,\n",
       " 'Crowd Funding': 2}"
      ]
     },
     "execution_count": 55,
     "metadata": {},
     "output_type": "execute_result"
    }
   ],
   "source": [
    "plt.pie(a.values,autopct='%.2f',explode=explode)\n",
    "plt.show()\n",
    "d = {}\n",
    "for i in row_data:\n",
    "    d[i] = d.get(i,0)+1\n",
    "d"
   ]
  },
  {
   "cell_type": "code",
   "execution_count": 56,
   "metadata": {},
   "outputs": [
    {
     "name": "stdout",
     "output_type": "stream",
     "text": [
      "Private Equity 54.87\n",
      "Seed Funding 45.00\n",
      "Crowd Funding 0.08\n",
      "Debt Funding 0.04\n"
     ]
    }
   ],
   "source": [
    "print('Private Equity 54.87')\n",
    "print('Seed Funding 45.00')\n",
    "print('Crowd Funding 0.08')\n",
    "print('Debt Funding 0.04')"
   ]
  },
  {
   "cell_type": "code",
   "execution_count": 72,
   "metadata": {},
   "outputs": [
    {
     "data": {
      "image/png": "[encoded data removed]",
      "text/plain": [
       "<Figure size 432x288 with 1 Axes>"
      ]
     },
     "metadata": {},
     "output_type": "display_data"
    },
    {
     "name": "stdout",
     "output_type": "stream",
     "text": [
      "Private Equity 98.15\n",
      "Seed Funding 1.81\n",
      "Debt Funding 0.04\n",
      "Crowd Funding 0.00\n"
     ]
    }
   ],
   "source": [
    "\n",
    "\n",
    "import numpy as np\n",
    "import pandas as pd\n",
    "import csv\n",
    "import matplotlib.pyplot as plt\n",
    "data=pd.read_csv('startup_funding.csv')\n",
    "df=data.copy()\n",
    "df.dropna(subset = ['InvestmentType'], inplace = True)\n",
    "df['AmountInUSD'].fillna(0, inplace = True)\n",
    "df.loc[df['InvestmentType'] == 'PrivateEquity', 'InvestmentType'] = 'Private Equity'\n",
    "df.loc[df['InvestmentType'] == 'SeedFunding', 'InvestmentType'] = 'Seed Funding'\n",
    "df.loc[df['InvestmentType'] == 'Crowd funding', 'InvestmentType'] = 'Crowd Funding'\n",
    "investType = []\n",
    "amount = []\n",
    "for i in df['AmountInUSD']:\n",
    "    amount.append(i)\n",
    "for i in df['InvestmentType']:\n",
    "    investType.append(i)\n",
    "for i in range(len(amount)):\n",
    "    amount[i] = ''.join(str(amount[i]).split(','))\n",
    "investType = np.array(investType, dtype = 'str')\n",
    "amount = np.array(amount, dtype = 'int64')\n",
    "dic = {}\n",
    "for i in range(len(investType)):\n",
    "    if dic.get(investType[i], 0) == 0:\n",
    "        dic[investType[i]] = amount[i]\n",
    "    else:\n",
    "        dic[investType[i]] += amount[i]\n",
    "lists = sorted(dic.items())\n",
    "x, y = zip(*lists)\n",
    "plt.pie(y)\n",
    "plt.show()\n",
    "s = 0\n",
    "for item in dic.items():\n",
    "    s += item[1]\n",
    "for item in dic.items():\n",
    "    print(item[0], format(item[1] * 100 / s, '.2f'))"
   ]
  },
  {
   "cell_type": "code",
   "execution_count": null,
   "metadata": {},
   "outputs": [],
   "source": []
  }
 ],
 "metadata": {
  "kernelspec": {
   "display_name": "Python 3",
   "language": "python",
   "name": "python3"
  },
  "language_info": {
   "codemirror_mode": {
    "name": "ipython",
    "version": 3
   },
   "file_extension": ".py",
   "mimetype": "text/x-python",
   "name": "python",
   "nbconvert_exporter": "python",
   "pygments_lexer": "ipython3",
   "version": "3.8.5"
  }
 },
 "nbformat": 4,
 "nbformat_minor": 4
}
