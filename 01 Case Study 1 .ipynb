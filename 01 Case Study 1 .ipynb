{
 "cells": [
  {
   "cell_type": "code",
   "execution_count": 1,
   "metadata": {},
   "outputs": [],
   "source": [
    "import pandas as pd\n",
    "import numpy as np\n",
    "import matplotlib.pyplot as plt \n",
    "df_start=pd.read_csv('startup_funding.csv',encoding='utf-8') \n",
    "# df_start.head()"
   ]
  },
  {
   "cell_type": "code",
   "execution_count": 2,
   "metadata": {},
   "outputs": [],
   "source": [
    "#Error handling \n",
    "df_start['Date'].replace(\"12/05.2015\",\"12/05/2015\",inplace=True) \n",
    "df_start['Date'].replace(\"13/04.2015\",\"13/04/2015\",inplace=True) \n",
    "df_start['Date'].replace(\"15/01.2015\",\"15/01/2015\",inplace=True)\n",
    "df_start['Date'].replace(\"22/01//2015\",\"22/01/2015\",inplace=True)\n",
    "# df_start.head()"
   ]
  },
  {
   "cell_type": "code",
   "execution_count": 3,
   "metadata": {},
   "outputs": [],
   "source": [
    "def convertDate(date): \n",
    "    return date.split('/')[-1] \n",
    "\n",
    "df_start['Year']=df_start['Date'].apply(convertDate) "
   ]
  },
  {
   "cell_type": "code",
   "execution_count": 4,
   "metadata": {},
   "outputs": [
    {
     "name": "stdout",
     "output_type": "stream",
     "text": [
      "2015 936\n",
      "2016 993\n",
      "2017 443\n"
     ]
    }
   ],
   "source": [
    "year_count=df_start['Year'].value_counts()\n",
    "year_fund=list(zip(year_count.index,year_count.values))\n",
    "year_fund=np.array(year_fund,dtype=int) \n",
    "year_fund=year_fund[year_fund[:,0].argsort()]\n",
    "year=year_fund[:,0]\n",
    "funding_round=year_fund[:,1] \n",
    "\n",
    "for i in range(len(year)):\n",
    "    print(year[i],funding_round[i])"
   ]
  },
  {
   "cell_type": "code",
   "execution_count": 5,
   "metadata": {},
   "outputs": [
    {
     "data": {
      "image/png": "[encoded data removed]",
      "text/plain": [
       "<Figure size 432x288 with 1 Axes>"
      ]
     },
     "metadata": {
      "needs_background": "light"
     },
     "output_type": "display_data"
    }
   ],
   "source": [
    "plt.plot(year,funding_round,marker = 'o') \n",
    "plt.xticks(year) \n",
    "plt.title('Year vs No. of Funding Round') \n",
    "plt.xlabel('Year')\n",
    "plt.ylabel('No. of Funding Round')\n",
    "plt.show() "
   ]
  },
  {
   "cell_type": "code",
   "execution_count": 6,
   "metadata": {},
   "outputs": [
    {
     "name": "stdout",
     "output_type": "stream",
     "text": [
      "Bangalore 635\n",
      "Mumbai 449\n",
      "New Delhi 389\n",
      "Gurgaon 241\n",
      "nan 179\n",
      "Pune 91\n",
      "Noida 79\n",
      "Hyderabad 77\n",
      "Chennai 67\n",
      "Ahmedabad 35\n"
     ]
    }
   ],
   "source": [
    "import pandas as pd\n",
    "import numpy as np\n",
    "path = \"A1_question.csv\"\n",
    "data = pd.read_csv(path,encoding='utf-8')\n",
    "df=data.copy()\n",
    "df[\"CityLocation\"].dropna(inplace=True)\n",
    "def separateCity(s):\n",
    "    s = str(s)\n",
    "    return s.split(\"/\")[0].strip()\n",
    "df[\"CityLocation\"] = df[\"CityLocation\"].apply(separateCity)\n",
    "df[\"CityLocation\"].replace(\"Delhi\", \"New Delhi\", inplace=True)\n",
    "df[\"CityLocation\"].replace(\"bangalore\", \"Bangalore\", inplace=True)\n",
    "\n",
    "s=df[\"CityLocation\"].value_counts()[0:10]\n",
    "cities = s.index\n",
    "num_startups = s.values\n",
    "for i in range(len(cities)):\n",
    "    print(cities[i], num_startups[i])"
   ]
  },
  {
   "cell_type": "code",
   "execution_count": 7,
   "metadata": {},
   "outputs": [],
   "source": [
    "import pandas as pd\n",
    "import numpy as np\n",
    "import matplotlib.pyplot as plt\n",
    "\n",
    "data = pd.read_csv('startup_funding.csv')\n",
    "df = data.copy()\n",
    "df.AmountInUSD.dropna(inplace=True)\n",
    "df.CityLocation.dropna(inplace=True)\n",
    "\n",
    "def seperateCity(s):\n",
    "    s = str(s)\n",
    "    return s.split('/')[0].strip()\n",
    "\n",
    "df['CityLocation'] = df['CityLocation'].apply(seperateCity)\n",
    "df['CityLocation'].replace( \"Delhi\",\"New Delhi\",inplace=True)\n",
    "df['CityLocation'].replace(\"bangalore\",\"Bangalore\",inplace=True)\n",
    "\n",
    "funds = df['AmountInUSD']\n",
    "city = df['CityLocation']\n"
   ]
  },
  {
   "cell_type": "code",
   "execution_count": 8,
   "metadata": {},
   "outputs": [
    {
     "name": "stdout",
     "output_type": "stream",
     "text": [
      "Bangalore 46.33\n",
      "New Delhi 15.50\n",
      "Mumbai 12.95\n",
      "Gurgaon 11.38\n",
      "nan 7.00\n",
      "Chennai 2.26\n",
      "Pune 2.02\n",
      "Hyderabad 1.07\n",
      "Noida 0.94\n",
      "Ahmedabad 0.54\n",
      "CityLocation\n",
      "Bangalore    8.422974e+09\n",
      "New Delhi    2.818248e+09\n",
      "Mumbai       2.354934e+09\n",
      "Gurgaon      2.069022e+09\n",
      "nan          1.271864e+09\n",
      "Chennai      4.111050e+08\n",
      "Pune         3.666530e+08\n",
      "Hyderabad    1.953620e+08\n",
      "Noida        1.706380e+08\n",
      "Ahmedabad    9.818600e+07\n",
      "Name: AmountInUSD, dtype: float64\n"
     ]
    }
   ],
   "source": [
    "df[\"AmountInUSD\"]=df[\"AmountInUSD\"].apply(lambda x: float(str(x).replace(\",\",\"\")))\n",
    "df[\"AmountInUSD\"]=pd.to_numeric(df[\"AmountInUSD\"])\n",
    "city_amount=df.groupby('CityLocation')['AmountInUSD'].sum().sort_values(ascending=False)[0:10]\n",
    "city=city_amount.index\n",
    "amountCity=city_amount.values\n",
    "perAmount=np.true_divide(amountCity, amountCity.sum())*100\n",
    "for i in range(len(city)):\n",
    "    print(city[i],format(perAmount[i],'.2f'))\n",
    "print(city_amount)"
   ]
  },
  {
   "cell_type": "code",
   "execution_count": null,
   "metadata": {},
   "outputs": [],
   "source": []
  }
 ],
 "metadata": {
  "kernelspec": {
   "display_name": "Python 3 (ipykernel)",
   "language": "python",
   "name": "python3"
  },
  "language_info": {
   "codemirror_mode": {
    "name": "ipython",
    "version": 3
   },
   "file_extension": ".py",
   "mimetype": "text/x-python",
   "name": "python",
   "nbconvert_exporter": "python",
   "pygments_lexer": "ipython3",
   "version": "3.9.7"
  }
 },
 "nbformat": 4,
 "nbformat_minor": 4
}
